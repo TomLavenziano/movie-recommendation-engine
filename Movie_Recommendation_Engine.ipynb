{
 "cells": [
  {
   "cell_type": "markdown",
   "metadata": {},
   "source": [
    "<h1>Movie Recommendation Engine</h1>\n",
    "\n",
    "<pre>\n",
    "Authors            : Rajendra Bhagroo  | Thomas Lavenziano | Kevin Canales\n",
    "Emails             : Rbhagroo@Nyit.edu | Tlavenzi@nyit.edu | kcanal02@nyit.edu\n",
    "\n",
    "Course Name        : Introduction To Data Mining\n",
    "Course Number      : CSCI 415 - W01\n",
    "Course Instructor  : Xueqing Huang\n",
    "\n",
    "Date Due           : 5/8/19\n",
    "Date Last Modified : 5/6/19\n",
    "Kernel             : Python 3.7.1\n",
    "\n",
    "Credits: \n",
    "* Movie Lens Dataset (100,000) : https://www.kaggle.com/grouplens/movielens-latest-small#README.md\n",
    "* To Improve System  (20M)     : https://www.kaggle.com/grouplens/movielens-20m-dataset#rating.csv\n",
    "</pre>"
   ]
  },
  {
   "cell_type": "code",
   "execution_count": null,
   "metadata": {},
   "outputs": [],
   "source": [
    "# Install pip packages for the current Jupyter kernel\n",
    "from sys import executable\n",
    "\n",
    "!{executable} -m pip install --upgrade pip\n",
    "!{executable} -m pip install numpy\n",
    "!{executable} -m pip install pandas\n",
    "!{executable} -m pip install matplotlib\n",
    "\n",
    "# Installing Tensorflow: https://www.tensorflow.org/install/pip\n",
    "# We Are Using tensorflow-1.13.1\n",
    "!{executable} -m pip install --upgrade tensorflow"
   ]
  },
  {
   "cell_type": "code",
   "execution_count": 1,
   "metadata": {},
   "outputs": [],
   "source": [
    "# Sets matplotlib's backend engine to display plots within current Jupyter kernel\n",
    "%matplotlib inline\n",
    "import matplotlib\n",
    "import matplotlib.pyplot as plt\n",
    "\n",
    "# Sets Tensorflow as the backend engine\n",
    "import tensorflow as tf\n",
    "\n",
    "# Array Processing\n",
    "import numpy as np\n",
    "import pandas as pd\n",
    "\n",
    "# Allows us to save [dump] and load models\n",
    "import pickle"
   ]
  },
  {
   "cell_type": "code",
   "execution_count": null,
   "metadata": {},
   "outputs": [],
   "source": []
  }
 ],
 "metadata": {
  "kernelspec": {
   "display_name": "Python 3",
   "language": "python",
   "name": "python3"
  },
  "language_info": {
   "codemirror_mode": {
    "name": "ipython",
    "version": 3
   },
   "file_extension": ".py",
   "mimetype": "text/x-python",
   "name": "python",
   "nbconvert_exporter": "python",
   "pygments_lexer": "ipython3",
   "version": "3.7.1"
  }
 },
 "nbformat": 4,
 "nbformat_minor": 2
}
